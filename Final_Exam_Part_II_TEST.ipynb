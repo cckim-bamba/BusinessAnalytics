{
  "nbformat": 4,
  "nbformat_minor": 0,
  "metadata": {
    "colab": {
      "provenance": [],
      "toc_visible": true
    },
    "kernelspec": {
      "name": "python3",
      "display_name": "Python 3"
    },
    "language_info": {
      "name": "python"
    }
  },
  "cells": [
    {
      "cell_type": "markdown",
      "metadata": {
        "id": "Vzht3XAFexIX"
      },
      "source": [
        "<img align=\"left\" width=\"250\" height=\"70\" src=\"https://gsb.skku.edu/_res/en/img/common/logo_eng.png\"> <br><br><br>\n",
        "\n",
        "# **Final Exam Part II - Take-Home Data Challenge (10 marks)**\n",
        "\n",
        "**Programming for Analytics**\n",
        "\n",
        "**Background**\n",
        "\n",
        "The marketing team of an e-commerce site has launched an email campaign.\n",
        "\n",
        "You are in charge of figuring out how the email campaign performed, your analysis should center around the [click through rate](https://en.wikipedia.org/wiki/Click-through_rate).\n",
        "\n",
        "**Grading Policy**\n",
        "\n",
        "* Good workflow and clean code (data inspection, data cleaning, comments, Markdown use) (3 marks)\n",
        "* Accurate understanding and calculation of the click through rate (2 marks)\n",
        "* Generate Insights and show business impact of your analyses. (5 marks)\n",
        "\n",
        "**Due Date**\n",
        "\n",
        "* Due Date: Oct 9 (Mon), 11:59 PM (**No Late Submission Option**)\n",
        "* <font color=\"red\">You would receive 0 mark if you miss the due date</font>.\n",
        "\n",
        "---\n",
        "\n",
        "**Upload to Drive**\n",
        "\n",
        "<font color=\"red\">Please add a text cell below with your name.\n",
        "</font>  "
      ]
    },
    {
      "cell_type": "markdown",
      "source": [
        "# **Email Marketing Performance Evaluation**\n",
        "\n",
        "\n",
        "\n",
        "## **Goal**\n",
        "\n",
        "\n",
        "One of the most common data science tasks is optimizing marketing campaigns. Email marketing is one of the most effective marketing tools available.\n",
        "\n",
        "Emails are great because they are free, scalable, and easily personalized. Personalizing the text and/or the subject, who should receive it, when it should be sent, and so on are all part of email optimization.\n",
        "\n",
        "\n",
        "## **Challenge Description**\n",
        "\n",
        "An e-commerce site's marketing team has launched an email campaign. This site contains email addresses from all previous users who created accounts.\n",
        "\n",
        "They sent emails to **a random sample of** users. The email informs the user of a new feature that has been added to the site. From the marketing team's perspective, **success is defined as the user clicking on the link inside of the email**. This link will take the user to the company's website.\n",
        "\n",
        "You are in charge of determining the success of the email campaign and have been asked the following questions:\n",
        "\n",
        "* How many users opened the email, and how many clicked on the link within the email? What are the percentages?\n",
        "\n",
        "* The VP of marketing believes that sending emails to a random sample of users is stupid. Can you recommend ways to optimize this? In particular, to **maximize the probability** of users clicking on the link inside the email based on all the information you have about the emails sent.\n",
        "\n",
        "* How much do you believe your proposed method will improve <font color=\"red\">**click through rate (defined as the number of users who click on the link divided by the total number of users who receive the email)</font>**? Explain.\n",
        "\n",
        "* Did you notice any unusual or interesting patterns in how the email campaign performed for different user segments? Explain.\n",
        "\n"
      ],
      "metadata": {
        "id": "mmkLywykIfvY"
      }
    },
    {
      "cell_type": "markdown",
      "source": [
        "## **Data**\n",
        "\n",
        "\n",
        "We have 3 tables in the **\"[Email Marketing Campaign Datasets](https://drive.google.com/drive/folders/1Ar8Y_jRhJXMqVOcLAIMPJF8hRrWbeuyy?usp=drive_link)\"** folder under the \"[**Datasets**](https://drive.google.com/drive/folders/1scYcPnQd0LgyY1VmlvbA7vAPbKFBInob?usp=drive_link)\" folder in the shared drive .\n",
        "\n",
        "The 3 tables are:\n",
        "\n",
        "1.**email_table** - info about each email that was sent. Columns are:\n",
        "\n",
        "* **email_id** : unique id of the email that was sent.\n",
        "* **email_text** : there are two versions of the email: one has “long text” (i.e. has 4 paragraphs) and one has “short text” (just two paragraphs)\n",
        "* **email_version** : some emails were “personalized” (i.e. they had the name of the user receiving the email in the incipit, such as “Hi John”), while some emails were “generic” (the incipit was just “Hi,”).\n",
        "* **hour** : hour of the day based on the local time when the email was sent.\n",
        "* **weekday** : the day on which the email was sent.\n",
        "* **user_country** : the country where the user receiving the email was based. It comes from the user ip address when she created the account.\n",
        "* **user_past_purchases** : how many items in the past were bought by the user receiving the email\n",
        "\n",
        "2.**email_opened_table** - the id of the emails that were opened at least once. Columns are:\n",
        "\n",
        "* **email_id** : the id of the emails that were opened, i.e. the user clicked on the email and, supposedly, read it.\n",
        "\n",
        "\n",
        "3.**link_clicked_table** - the id of the emails whose link inside was clicked at least once. Columns are:\n",
        "\n",
        "* **email_id** : if the user clicked on the link within the email, then the id of the email shows up on this table.\n"
      ],
      "metadata": {
        "id": "FAeDukBx3BaP"
      }
    },
    {
      "cell_type": "markdown",
      "source": [
        "# Solution Starts Here"
      ],
      "metadata": {
        "id": "JQUZs541dZ2X"
      }
    },
    {
      "cell_type": "markdown",
      "source": [
        "## 1.Preparation"
      ],
      "metadata": {
        "id": "o1urcnd0dfB5"
      }
    },
    {
      "cell_type": "code",
      "source": [
        "#package import\n",
        "import pandas as pd\n",
        "from datetime import datetime\n",
        "import numpy as np\n",
        "import seaborn as sns\n",
        "import matplotlib.pyplot as plt"
      ],
      "metadata": {
        "id": "--Bq5OdRcYJj"
      },
      "execution_count": 35,
      "outputs": []
    },
    {
      "cell_type": "code",
      "source": [
        "#mount google drive\n",
        "from google.colab import drive\n",
        "drive.mount('/content/drive')"
      ],
      "metadata": {
        "colab": {
          "base_uri": "https://localhost:8080/"
        },
        "id": "FiUWeKI3c8d2",
        "outputId": "d5f32602-f57d-4dc0-9f47-623fd2709dc7"
      },
      "execution_count": 36,
      "outputs": [
        {
          "output_type": "stream",
          "name": "stdout",
          "text": [
            "Drive already mounted at /content/drive; to attempt to forcibly remount, call drive.mount(\"/content/drive\", force_remount=True).\n"
          ]
        }
      ]
    },
    {
      "cell_type": "code",
      "source": [
        "#load data\n",
        "email_path = \"/content/drive/MyDrive/email_table.csv\"\n",
        "opened_path = \"/content/drive/MyDrive/email_opened_table.csv\"\n",
        "link_click_path = \"/content/drive/MyDrive/link_clicked_table.csv\"\n",
        "\n",
        "emdf = pd.read_csv(email_path)\n",
        "opendf = pd.read_csv(opened_path)\n",
        "clickdf = pd.read_csv(link_click_path)"
      ],
      "metadata": {
        "id": "tcuSLnhidCog"
      },
      "execution_count": 37,
      "outputs": []
    },
    {
      "cell_type": "code",
      "source": [
        "# simple investigation - non-null count\n",
        "print(emdf.info()) #  0 null\n",
        "print(opendf.info())\n",
        "print(clickdf.info())\n",
        "\n",
        "#Result: checked the lows and non-null value matches, this means there's no null"
      ],
      "metadata": {
        "colab": {
          "base_uri": "https://localhost:8080/"
        },
        "id": "AktZFvgIeBT9",
        "outputId": "2abafc29-c106-4ccc-e8a9-a2b28e43eb43"
      },
      "execution_count": 38,
      "outputs": [
        {
          "output_type": "stream",
          "name": "stdout",
          "text": [
            "<class 'pandas.core.frame.DataFrame'>\n",
            "RangeIndex: 100000 entries, 0 to 99999\n",
            "Data columns (total 7 columns):\n",
            " #   Column               Non-Null Count   Dtype \n",
            "---  ------               --------------   ----- \n",
            " 0   email_id             100000 non-null  int64 \n",
            " 1   email_text           100000 non-null  object\n",
            " 2   email_version        100000 non-null  object\n",
            " 3   hour                 100000 non-null  int64 \n",
            " 4   weekday              100000 non-null  object\n",
            " 5   user_country         100000 non-null  object\n",
            " 6   user_past_purchases  100000 non-null  int64 \n",
            "dtypes: int64(3), object(4)\n",
            "memory usage: 5.3+ MB\n",
            "None\n",
            "<class 'pandas.core.frame.DataFrame'>\n",
            "RangeIndex: 10345 entries, 0 to 10344\n",
            "Data columns (total 1 columns):\n",
            " #   Column    Non-Null Count  Dtype\n",
            "---  ------    --------------  -----\n",
            " 0   email_id  10345 non-null  int64\n",
            "dtypes: int64(1)\n",
            "memory usage: 80.9 KB\n",
            "None\n",
            "<class 'pandas.core.frame.DataFrame'>\n",
            "RangeIndex: 2119 entries, 0 to 2118\n",
            "Data columns (total 1 columns):\n",
            " #   Column    Non-Null Count  Dtype\n",
            "---  ------    --------------  -----\n",
            " 0   email_id  2119 non-null   int64\n",
            "dtypes: int64(1)\n",
            "memory usage: 16.7 KB\n",
            "None\n"
          ]
        }
      ]
    },
    {
      "cell_type": "code",
      "source": [
        "# check any duplicated\n",
        "check1 = opendf.duplicated().sum()\n",
        "check2 = clickdf.duplicated().sum()\n",
        "check3 = emdf.duplicated().sum()\n",
        "\n",
        "print (check1,'\\n===\\n',check2,'\\n===\\n',check3)\n",
        "#Result: checked there are no duplicated."
      ],
      "metadata": {
        "colab": {
          "base_uri": "https://localhost:8080/"
        },
        "id": "p56XjtaUfC3j",
        "outputId": "b919c4fd-9d7c-402f-d60e-47ed2e93deaa"
      },
      "execution_count": 39,
      "outputs": [
        {
          "output_type": "stream",
          "name": "stdout",
          "text": [
            "0 \n",
            "===\n",
            " 0 \n",
            "===\n",
            " 0\n"
          ]
        }
      ]
    },
    {
      "cell_type": "markdown",
      "source": [
        "## 2.Merge Tables\n",
        "\n",
        "* Before merge, I'm going to add one more column on 'opendf' and 'clickdf'. Because those two tables only have one column, to express that opened or click linked value after merge tables."
      ],
      "metadata": {
        "id": "6yMwF6UziSjG"
      }
    },
    {
      "cell_type": "code",
      "source": [
        "# Add marking columns\n",
        "opendf['opened'] = True\n",
        "clickdf['clicked'] = True"
      ],
      "metadata": {
        "id": "7Jg1wq5rjCgF"
      },
      "execution_count": 40,
      "outputs": []
    },
    {
      "cell_type": "code",
      "source": [
        "# Merge table\n",
        "em_open = emdf.merge(opendf, how='left', validate='m:m' )\n",
        "Basedf = em_open.merge(clickdf, how='left', validate='m:m' )\n",
        "Basedf"
      ],
      "metadata": {
        "colab": {
          "base_uri": "https://localhost:8080/",
          "height": 443
        },
        "id": "17pv0bq5kUfx",
        "outputId": "95b65b6f-5a1f-4bc3-fbaf-eef915b67b98"
      },
      "execution_count": 56,
      "outputs": [
        {
          "output_type": "execute_result",
          "data": {
            "text/plain": [
              "       email_id   email_text email_version  hour    weekday user_country  \\\n",
              "0         85120  short_email  personalized     2     Sunday           US   \n",
              "1        966622   long_email  personalized    12     Sunday           UK   \n",
              "2        777221   long_email  personalized    11  Wednesday           US   \n",
              "3        493711  short_email       generic     6     Monday           UK   \n",
              "4        106887   long_email       generic    14     Monday           US   \n",
              "...         ...          ...           ...   ...        ...          ...   \n",
              "99995    803504  short_email  personalized     4     Monday           US   \n",
              "99996    899722   long_email  personalized     7   Saturday           US   \n",
              "99997    449610   long_email  personalized    11   Saturday           UK   \n",
              "99998     72497  short_email       generic    10     Monday           UK   \n",
              "99999    348333   long_email  personalized     8     Sunday           UK   \n",
              "\n",
              "       user_past_purchases opened clicked  \n",
              "0                        5    NaN     NaN  \n",
              "1                        2   True    True  \n",
              "2                        2    NaN     NaN  \n",
              "3                        1    NaN     NaN  \n",
              "4                        6    NaN     NaN  \n",
              "...                    ...    ...     ...  \n",
              "99995                    5    NaN     NaN  \n",
              "99996                    1    NaN     NaN  \n",
              "99997                    6    NaN     NaN  \n",
              "99998                    0    NaN     NaN  \n",
              "99999                    1   True    True  \n",
              "\n",
              "[100000 rows x 9 columns]"
            ],
            "text/html": [
              "\n",
              "  <div id=\"df-fc2863d6-1e73-4087-90a6-23170a2cbb56\" class=\"colab-df-container\">\n",
              "    <div>\n",
              "<style scoped>\n",
              "    .dataframe tbody tr th:only-of-type {\n",
              "        vertical-align: middle;\n",
              "    }\n",
              "\n",
              "    .dataframe tbody tr th {\n",
              "        vertical-align: top;\n",
              "    }\n",
              "\n",
              "    .dataframe thead th {\n",
              "        text-align: right;\n",
              "    }\n",
              "</style>\n",
              "<table border=\"1\" class=\"dataframe\">\n",
              "  <thead>\n",
              "    <tr style=\"text-align: right;\">\n",
              "      <th></th>\n",
              "      <th>email_id</th>\n",
              "      <th>email_text</th>\n",
              "      <th>email_version</th>\n",
              "      <th>hour</th>\n",
              "      <th>weekday</th>\n",
              "      <th>user_country</th>\n",
              "      <th>user_past_purchases</th>\n",
              "      <th>opened</th>\n",
              "      <th>clicked</th>\n",
              "    </tr>\n",
              "  </thead>\n",
              "  <tbody>\n",
              "    <tr>\n",
              "      <th>0</th>\n",
              "      <td>85120</td>\n",
              "      <td>short_email</td>\n",
              "      <td>personalized</td>\n",
              "      <td>2</td>\n",
              "      <td>Sunday</td>\n",
              "      <td>US</td>\n",
              "      <td>5</td>\n",
              "      <td>NaN</td>\n",
              "      <td>NaN</td>\n",
              "    </tr>\n",
              "    <tr>\n",
              "      <th>1</th>\n",
              "      <td>966622</td>\n",
              "      <td>long_email</td>\n",
              "      <td>personalized</td>\n",
              "      <td>12</td>\n",
              "      <td>Sunday</td>\n",
              "      <td>UK</td>\n",
              "      <td>2</td>\n",
              "      <td>True</td>\n",
              "      <td>True</td>\n",
              "    </tr>\n",
              "    <tr>\n",
              "      <th>2</th>\n",
              "      <td>777221</td>\n",
              "      <td>long_email</td>\n",
              "      <td>personalized</td>\n",
              "      <td>11</td>\n",
              "      <td>Wednesday</td>\n",
              "      <td>US</td>\n",
              "      <td>2</td>\n",
              "      <td>NaN</td>\n",
              "      <td>NaN</td>\n",
              "    </tr>\n",
              "    <tr>\n",
              "      <th>3</th>\n",
              "      <td>493711</td>\n",
              "      <td>short_email</td>\n",
              "      <td>generic</td>\n",
              "      <td>6</td>\n",
              "      <td>Monday</td>\n",
              "      <td>UK</td>\n",
              "      <td>1</td>\n",
              "      <td>NaN</td>\n",
              "      <td>NaN</td>\n",
              "    </tr>\n",
              "    <tr>\n",
              "      <th>4</th>\n",
              "      <td>106887</td>\n",
              "      <td>long_email</td>\n",
              "      <td>generic</td>\n",
              "      <td>14</td>\n",
              "      <td>Monday</td>\n",
              "      <td>US</td>\n",
              "      <td>6</td>\n",
              "      <td>NaN</td>\n",
              "      <td>NaN</td>\n",
              "    </tr>\n",
              "    <tr>\n",
              "      <th>...</th>\n",
              "      <td>...</td>\n",
              "      <td>...</td>\n",
              "      <td>...</td>\n",
              "      <td>...</td>\n",
              "      <td>...</td>\n",
              "      <td>...</td>\n",
              "      <td>...</td>\n",
              "      <td>...</td>\n",
              "      <td>...</td>\n",
              "    </tr>\n",
              "    <tr>\n",
              "      <th>99995</th>\n",
              "      <td>803504</td>\n",
              "      <td>short_email</td>\n",
              "      <td>personalized</td>\n",
              "      <td>4</td>\n",
              "      <td>Monday</td>\n",
              "      <td>US</td>\n",
              "      <td>5</td>\n",
              "      <td>NaN</td>\n",
              "      <td>NaN</td>\n",
              "    </tr>\n",
              "    <tr>\n",
              "      <th>99996</th>\n",
              "      <td>899722</td>\n",
              "      <td>long_email</td>\n",
              "      <td>personalized</td>\n",
              "      <td>7</td>\n",
              "      <td>Saturday</td>\n",
              "      <td>US</td>\n",
              "      <td>1</td>\n",
              "      <td>NaN</td>\n",
              "      <td>NaN</td>\n",
              "    </tr>\n",
              "    <tr>\n",
              "      <th>99997</th>\n",
              "      <td>449610</td>\n",
              "      <td>long_email</td>\n",
              "      <td>personalized</td>\n",
              "      <td>11</td>\n",
              "      <td>Saturday</td>\n",
              "      <td>UK</td>\n",
              "      <td>6</td>\n",
              "      <td>NaN</td>\n",
              "      <td>NaN</td>\n",
              "    </tr>\n",
              "    <tr>\n",
              "      <th>99998</th>\n",
              "      <td>72497</td>\n",
              "      <td>short_email</td>\n",
              "      <td>generic</td>\n",
              "      <td>10</td>\n",
              "      <td>Monday</td>\n",
              "      <td>UK</td>\n",
              "      <td>0</td>\n",
              "      <td>NaN</td>\n",
              "      <td>NaN</td>\n",
              "    </tr>\n",
              "    <tr>\n",
              "      <th>99999</th>\n",
              "      <td>348333</td>\n",
              "      <td>long_email</td>\n",
              "      <td>personalized</td>\n",
              "      <td>8</td>\n",
              "      <td>Sunday</td>\n",
              "      <td>UK</td>\n",
              "      <td>1</td>\n",
              "      <td>True</td>\n",
              "      <td>True</td>\n",
              "    </tr>\n",
              "  </tbody>\n",
              "</table>\n",
              "<p>100000 rows × 9 columns</p>\n",
              "</div>\n",
              "    <div class=\"colab-df-buttons\">\n",
              "\n",
              "  <div class=\"colab-df-container\">\n",
              "    <button class=\"colab-df-convert\" onclick=\"convertToInteractive('df-fc2863d6-1e73-4087-90a6-23170a2cbb56')\"\n",
              "            title=\"Convert this dataframe to an interactive table.\"\n",
              "            style=\"display:none;\">\n",
              "\n",
              "  <svg xmlns=\"http://www.w3.org/2000/svg\" height=\"24px\" viewBox=\"0 -960 960 960\">\n",
              "    <path d=\"M120-120v-720h720v720H120Zm60-500h600v-160H180v160Zm220 220h160v-160H400v160Zm0 220h160v-160H400v160ZM180-400h160v-160H180v160Zm440 0h160v-160H620v160ZM180-180h160v-160H180v160Zm440 0h160v-160H620v160Z\"/>\n",
              "  </svg>\n",
              "    </button>\n",
              "\n",
              "  <style>\n",
              "    .colab-df-container {\n",
              "      display:flex;\n",
              "      gap: 12px;\n",
              "    }\n",
              "\n",
              "    .colab-df-convert {\n",
              "      background-color: #E8F0FE;\n",
              "      border: none;\n",
              "      border-radius: 50%;\n",
              "      cursor: pointer;\n",
              "      display: none;\n",
              "      fill: #1967D2;\n",
              "      height: 32px;\n",
              "      padding: 0 0 0 0;\n",
              "      width: 32px;\n",
              "    }\n",
              "\n",
              "    .colab-df-convert:hover {\n",
              "      background-color: #E2EBFA;\n",
              "      box-shadow: 0px 1px 2px rgba(60, 64, 67, 0.3), 0px 1px 3px 1px rgba(60, 64, 67, 0.15);\n",
              "      fill: #174EA6;\n",
              "    }\n",
              "\n",
              "    .colab-df-buttons div {\n",
              "      margin-bottom: 4px;\n",
              "    }\n",
              "\n",
              "    [theme=dark] .colab-df-convert {\n",
              "      background-color: #3B4455;\n",
              "      fill: #D2E3FC;\n",
              "    }\n",
              "\n",
              "    [theme=dark] .colab-df-convert:hover {\n",
              "      background-color: #434B5C;\n",
              "      box-shadow: 0px 1px 3px 1px rgba(0, 0, 0, 0.15);\n",
              "      filter: drop-shadow(0px 1px 2px rgba(0, 0, 0, 0.3));\n",
              "      fill: #FFFFFF;\n",
              "    }\n",
              "  </style>\n",
              "\n",
              "    <script>\n",
              "      const buttonEl =\n",
              "        document.querySelector('#df-fc2863d6-1e73-4087-90a6-23170a2cbb56 button.colab-df-convert');\n",
              "      buttonEl.style.display =\n",
              "        google.colab.kernel.accessAllowed ? 'block' : 'none';\n",
              "\n",
              "      async function convertToInteractive(key) {\n",
              "        const element = document.querySelector('#df-fc2863d6-1e73-4087-90a6-23170a2cbb56');\n",
              "        const dataTable =\n",
              "          await google.colab.kernel.invokeFunction('convertToInteractive',\n",
              "                                                    [key], {});\n",
              "        if (!dataTable) return;\n",
              "\n",
              "        const docLinkHtml = 'Like what you see? Visit the ' +\n",
              "          '<a target=\"_blank\" href=https://colab.research.google.com/notebooks/data_table.ipynb>data table notebook</a>'\n",
              "          + ' to learn more about interactive tables.';\n",
              "        element.innerHTML = '';\n",
              "        dataTable['output_type'] = 'display_data';\n",
              "        await google.colab.output.renderOutput(dataTable, element);\n",
              "        const docLink = document.createElement('div');\n",
              "        docLink.innerHTML = docLinkHtml;\n",
              "        element.appendChild(docLink);\n",
              "      }\n",
              "    </script>\n",
              "  </div>\n",
              "\n",
              "\n",
              "<div id=\"df-7e40242a-27bd-4cc2-a263-dc243fd248b2\">\n",
              "  <button class=\"colab-df-quickchart\" onclick=\"quickchart('df-7e40242a-27bd-4cc2-a263-dc243fd248b2')\"\n",
              "            title=\"Suggest charts.\"\n",
              "            style=\"display:none;\">\n",
              "\n",
              "<svg xmlns=\"http://www.w3.org/2000/svg\" height=\"24px\"viewBox=\"0 0 24 24\"\n",
              "     width=\"24px\">\n",
              "    <g>\n",
              "        <path d=\"M19 3H5c-1.1 0-2 .9-2 2v14c0 1.1.9 2 2 2h14c1.1 0 2-.9 2-2V5c0-1.1-.9-2-2-2zM9 17H7v-7h2v7zm4 0h-2V7h2v10zm4 0h-2v-4h2v4z\"/>\n",
              "    </g>\n",
              "</svg>\n",
              "  </button>\n",
              "\n",
              "<style>\n",
              "  .colab-df-quickchart {\n",
              "      --bg-color: #E8F0FE;\n",
              "      --fill-color: #1967D2;\n",
              "      --hover-bg-color: #E2EBFA;\n",
              "      --hover-fill-color: #174EA6;\n",
              "      --disabled-fill-color: #AAA;\n",
              "      --disabled-bg-color: #DDD;\n",
              "  }\n",
              "\n",
              "  [theme=dark] .colab-df-quickchart {\n",
              "      --bg-color: #3B4455;\n",
              "      --fill-color: #D2E3FC;\n",
              "      --hover-bg-color: #434B5C;\n",
              "      --hover-fill-color: #FFFFFF;\n",
              "      --disabled-bg-color: #3B4455;\n",
              "      --disabled-fill-color: #666;\n",
              "  }\n",
              "\n",
              "  .colab-df-quickchart {\n",
              "    background-color: var(--bg-color);\n",
              "    border: none;\n",
              "    border-radius: 50%;\n",
              "    cursor: pointer;\n",
              "    display: none;\n",
              "    fill: var(--fill-color);\n",
              "    height: 32px;\n",
              "    padding: 0;\n",
              "    width: 32px;\n",
              "  }\n",
              "\n",
              "  .colab-df-quickchart:hover {\n",
              "    background-color: var(--hover-bg-color);\n",
              "    box-shadow: 0 1px 2px rgba(60, 64, 67, 0.3), 0 1px 3px 1px rgba(60, 64, 67, 0.15);\n",
              "    fill: var(--button-hover-fill-color);\n",
              "  }\n",
              "\n",
              "  .colab-df-quickchart-complete:disabled,\n",
              "  .colab-df-quickchart-complete:disabled:hover {\n",
              "    background-color: var(--disabled-bg-color);\n",
              "    fill: var(--disabled-fill-color);\n",
              "    box-shadow: none;\n",
              "  }\n",
              "\n",
              "  .colab-df-spinner {\n",
              "    border: 2px solid var(--fill-color);\n",
              "    border-color: transparent;\n",
              "    border-bottom-color: var(--fill-color);\n",
              "    animation:\n",
              "      spin 1s steps(1) infinite;\n",
              "  }\n",
              "\n",
              "  @keyframes spin {\n",
              "    0% {\n",
              "      border-color: transparent;\n",
              "      border-bottom-color: var(--fill-color);\n",
              "      border-left-color: var(--fill-color);\n",
              "    }\n",
              "    20% {\n",
              "      border-color: transparent;\n",
              "      border-left-color: var(--fill-color);\n",
              "      border-top-color: var(--fill-color);\n",
              "    }\n",
              "    30% {\n",
              "      border-color: transparent;\n",
              "      border-left-color: var(--fill-color);\n",
              "      border-top-color: var(--fill-color);\n",
              "      border-right-color: var(--fill-color);\n",
              "    }\n",
              "    40% {\n",
              "      border-color: transparent;\n",
              "      border-right-color: var(--fill-color);\n",
              "      border-top-color: var(--fill-color);\n",
              "    }\n",
              "    60% {\n",
              "      border-color: transparent;\n",
              "      border-right-color: var(--fill-color);\n",
              "    }\n",
              "    80% {\n",
              "      border-color: transparent;\n",
              "      border-right-color: var(--fill-color);\n",
              "      border-bottom-color: var(--fill-color);\n",
              "    }\n",
              "    90% {\n",
              "      border-color: transparent;\n",
              "      border-bottom-color: var(--fill-color);\n",
              "    }\n",
              "  }\n",
              "</style>\n",
              "\n",
              "  <script>\n",
              "    async function quickchart(key) {\n",
              "      const quickchartButtonEl =\n",
              "        document.querySelector('#' + key + ' button');\n",
              "      quickchartButtonEl.disabled = true;  // To prevent multiple clicks.\n",
              "      quickchartButtonEl.classList.add('colab-df-spinner');\n",
              "      try {\n",
              "        const charts = await google.colab.kernel.invokeFunction(\n",
              "            'suggestCharts', [key], {});\n",
              "      } catch (error) {\n",
              "        console.error('Error during call to suggestCharts:', error);\n",
              "      }\n",
              "      quickchartButtonEl.classList.remove('colab-df-spinner');\n",
              "      quickchartButtonEl.classList.add('colab-df-quickchart-complete');\n",
              "    }\n",
              "    (() => {\n",
              "      let quickchartButtonEl =\n",
              "        document.querySelector('#df-7e40242a-27bd-4cc2-a263-dc243fd248b2 button');\n",
              "      quickchartButtonEl.style.display =\n",
              "        google.colab.kernel.accessAllowed ? 'block' : 'none';\n",
              "    })();\n",
              "  </script>\n",
              "</div>\n",
              "    </div>\n",
              "  </div>\n"
            ]
          },
          "metadata": {},
          "execution_count": 56
        }
      ]
    },
    {
      "cell_type": "code",
      "source": [
        "# check the values are correctly applied\n",
        "Basedf[Basedf['opened'].isnull()].count() # the count of email id should be 89655.\n",
        "#Result : Correctly applied.\n",
        "# But! there are 50 click without email open??."
      ],
      "metadata": {
        "colab": {
          "base_uri": "https://localhost:8080/"
        },
        "id": "CUaebksRmDSA",
        "outputId": "4a043cc1-1b29-45d2-b6e5-c64eae9981e0"
      },
      "execution_count": 42,
      "outputs": [
        {
          "output_type": "execute_result",
          "data": {
            "text/plain": [
              "email_id               89655\n",
              "email_text             89655\n",
              "email_version          89655\n",
              "hour                   89655\n",
              "weekday                89655\n",
              "user_country           89655\n",
              "user_past_purchases    89655\n",
              "opened                     0\n",
              "clicked                   50\n",
              "dtype: int64"
            ]
          },
          "metadata": {},
          "execution_count": 42
        }
      ]
    },
    {
      "cell_type": "code",
      "source": [
        "#clicked list without email open\n",
        "#check = Basedf[(Basedf['clicked']==True)&(Basedf['opened'].isnull())]\n",
        "#check"
      ],
      "metadata": {
        "id": "Nw-gZ-A6tVfp"
      },
      "execution_count": 43,
      "outputs": []
    },
    {
      "cell_type": "markdown",
      "source": [
        "##3.Analysis email Open Rate & CTR by segment\n",
        "* Total Openrate and CTR\n",
        "* Performance by\n",
        "    * Email text length\n",
        "    * Email version\n",
        "    * Hour\n",
        "    * Week of day\n",
        "    * User country\n",
        "    * Past purchases"
      ],
      "metadata": {
        "id": "kbWK3nY8JUPy"
      }
    },
    {
      "cell_type": "code",
      "source": [
        "#check overall open rate and CTR\n",
        "Total_CTR = Basedf[['email_id','opened','clicked']].count()\n",
        "Total_CTR['open_rate'] = Total_CTR['opened'] / Total_CTR['email_id']\n",
        "Total_CTR['CTR'] = Total_CTR['clicked'] / Total_CTR['opened']\n",
        "Total_CTR\n",
        "\n",
        "average_o_rate = Total_CTR['open_rate'].round(2)\n",
        "average_ctr = Total_CTR['CTR'].round(2)\n",
        "\n",
        "#Total CTR is 10%, total click through rate is 20%"
      ],
      "metadata": {
        "id": "j29aCHVtyOQ_"
      },
      "execution_count": 44,
      "outputs": []
    },
    {
      "cell_type": "code",
      "source": [
        "print(f\"Total email open rate is {average_o_rate} \\nTotal click-Through-Rate is {average_ctr}\")"
      ],
      "metadata": {
        "colab": {
          "base_uri": "https://localhost:8080/"
        },
        "id": "9go-DImcObpo",
        "outputId": "bf17956f-e81e-4898-b8ef-7b732d934b21"
      },
      "execution_count": 45,
      "outputs": [
        {
          "output_type": "stream",
          "name": "stdout",
          "text": [
            "Total email open rate is 0.1 \n",
            "Total click-Through-Rate is 0.2\n"
          ]
        }
      ]
    },
    {
      "cell_type": "code",
      "source": [
        "#Perf. by Email Length\n",
        "CTR_by_length = Basedf[['email_id','email_text','opened','clicked']].groupby('email_text').count()\n",
        "CTR_by_length['open_rate'] = CTR_by_length['opened'] / CTR_by_length['email_id']\n",
        "CTR_by_length['CTR'] = CTR_by_length['clicked'] / CTR_by_length['opened']\n",
        "CTR_by_length\n",
        "\n",
        "# Result : both email has almost same CTR, but Short email showed higher open rate."
      ],
      "metadata": {
        "colab": {
          "base_uri": "https://localhost:8080/",
          "height": 143
        },
        "id": "97xMwNAzK9ZC",
        "outputId": "15948812-d131-40a9-a99b-9031c3cf6db5"
      },
      "execution_count": 46,
      "outputs": [
        {
          "output_type": "execute_result",
          "data": {
            "text/plain": [
              "             email_id  opened  clicked  open_rate       CTR\n",
              "email_text                                                 \n",
              "long_email      50276    4584      932   0.091177  0.203316\n",
              "short_email     49724    5761     1187   0.115860  0.206041"
            ],
            "text/html": [
              "\n",
              "  <div id=\"df-06034ba7-8e52-4b99-b4f2-e07690c1f1de\" class=\"colab-df-container\">\n",
              "    <div>\n",
              "<style scoped>\n",
              "    .dataframe tbody tr th:only-of-type {\n",
              "        vertical-align: middle;\n",
              "    }\n",
              "\n",
              "    .dataframe tbody tr th {\n",
              "        vertical-align: top;\n",
              "    }\n",
              "\n",
              "    .dataframe thead th {\n",
              "        text-align: right;\n",
              "    }\n",
              "</style>\n",
              "<table border=\"1\" class=\"dataframe\">\n",
              "  <thead>\n",
              "    <tr style=\"text-align: right;\">\n",
              "      <th></th>\n",
              "      <th>email_id</th>\n",
              "      <th>opened</th>\n",
              "      <th>clicked</th>\n",
              "      <th>open_rate</th>\n",
              "      <th>CTR</th>\n",
              "    </tr>\n",
              "    <tr>\n",
              "      <th>email_text</th>\n",
              "      <th></th>\n",
              "      <th></th>\n",
              "      <th></th>\n",
              "      <th></th>\n",
              "      <th></th>\n",
              "    </tr>\n",
              "  </thead>\n",
              "  <tbody>\n",
              "    <tr>\n",
              "      <th>long_email</th>\n",
              "      <td>50276</td>\n",
              "      <td>4584</td>\n",
              "      <td>932</td>\n",
              "      <td>0.091177</td>\n",
              "      <td>0.203316</td>\n",
              "    </tr>\n",
              "    <tr>\n",
              "      <th>short_email</th>\n",
              "      <td>49724</td>\n",
              "      <td>5761</td>\n",
              "      <td>1187</td>\n",
              "      <td>0.115860</td>\n",
              "      <td>0.206041</td>\n",
              "    </tr>\n",
              "  </tbody>\n",
              "</table>\n",
              "</div>\n",
              "    <div class=\"colab-df-buttons\">\n",
              "\n",
              "  <div class=\"colab-df-container\">\n",
              "    <button class=\"colab-df-convert\" onclick=\"convertToInteractive('df-06034ba7-8e52-4b99-b4f2-e07690c1f1de')\"\n",
              "            title=\"Convert this dataframe to an interactive table.\"\n",
              "            style=\"display:none;\">\n",
              "\n",
              "  <svg xmlns=\"http://www.w3.org/2000/svg\" height=\"24px\" viewBox=\"0 -960 960 960\">\n",
              "    <path d=\"M120-120v-720h720v720H120Zm60-500h600v-160H180v160Zm220 220h160v-160H400v160Zm0 220h160v-160H400v160ZM180-400h160v-160H180v160Zm440 0h160v-160H620v160ZM180-180h160v-160H180v160Zm440 0h160v-160H620v160Z\"/>\n",
              "  </svg>\n",
              "    </button>\n",
              "\n",
              "  <style>\n",
              "    .colab-df-container {\n",
              "      display:flex;\n",
              "      gap: 12px;\n",
              "    }\n",
              "\n",
              "    .colab-df-convert {\n",
              "      background-color: #E8F0FE;\n",
              "      border: none;\n",
              "      border-radius: 50%;\n",
              "      cursor: pointer;\n",
              "      display: none;\n",
              "      fill: #1967D2;\n",
              "      height: 32px;\n",
              "      padding: 0 0 0 0;\n",
              "      width: 32px;\n",
              "    }\n",
              "\n",
              "    .colab-df-convert:hover {\n",
              "      background-color: #E2EBFA;\n",
              "      box-shadow: 0px 1px 2px rgba(60, 64, 67, 0.3), 0px 1px 3px 1px rgba(60, 64, 67, 0.15);\n",
              "      fill: #174EA6;\n",
              "    }\n",
              "\n",
              "    .colab-df-buttons div {\n",
              "      margin-bottom: 4px;\n",
              "    }\n",
              "\n",
              "    [theme=dark] .colab-df-convert {\n",
              "      background-color: #3B4455;\n",
              "      fill: #D2E3FC;\n",
              "    }\n",
              "\n",
              "    [theme=dark] .colab-df-convert:hover {\n",
              "      background-color: #434B5C;\n",
              "      box-shadow: 0px 1px 3px 1px rgba(0, 0, 0, 0.15);\n",
              "      filter: drop-shadow(0px 1px 2px rgba(0, 0, 0, 0.3));\n",
              "      fill: #FFFFFF;\n",
              "    }\n",
              "  </style>\n",
              "\n",
              "    <script>\n",
              "      const buttonEl =\n",
              "        document.querySelector('#df-06034ba7-8e52-4b99-b4f2-e07690c1f1de button.colab-df-convert');\n",
              "      buttonEl.style.display =\n",
              "        google.colab.kernel.accessAllowed ? 'block' : 'none';\n",
              "\n",
              "      async function convertToInteractive(key) {\n",
              "        const element = document.querySelector('#df-06034ba7-8e52-4b99-b4f2-e07690c1f1de');\n",
              "        const dataTable =\n",
              "          await google.colab.kernel.invokeFunction('convertToInteractive',\n",
              "                                                    [key], {});\n",
              "        if (!dataTable) return;\n",
              "\n",
              "        const docLinkHtml = 'Like what you see? Visit the ' +\n",
              "          '<a target=\"_blank\" href=https://colab.research.google.com/notebooks/data_table.ipynb>data table notebook</a>'\n",
              "          + ' to learn more about interactive tables.';\n",
              "        element.innerHTML = '';\n",
              "        dataTable['output_type'] = 'display_data';\n",
              "        await google.colab.output.renderOutput(dataTable, element);\n",
              "        const docLink = document.createElement('div');\n",
              "        docLink.innerHTML = docLinkHtml;\n",
              "        element.appendChild(docLink);\n",
              "      }\n",
              "    </script>\n",
              "  </div>\n",
              "\n",
              "\n",
              "<div id=\"df-b7074f72-d07e-4e59-9427-c5ca4f0eda8a\">\n",
              "  <button class=\"colab-df-quickchart\" onclick=\"quickchart('df-b7074f72-d07e-4e59-9427-c5ca4f0eda8a')\"\n",
              "            title=\"Suggest charts.\"\n",
              "            style=\"display:none;\">\n",
              "\n",
              "<svg xmlns=\"http://www.w3.org/2000/svg\" height=\"24px\"viewBox=\"0 0 24 24\"\n",
              "     width=\"24px\">\n",
              "    <g>\n",
              "        <path d=\"M19 3H5c-1.1 0-2 .9-2 2v14c0 1.1.9 2 2 2h14c1.1 0 2-.9 2-2V5c0-1.1-.9-2-2-2zM9 17H7v-7h2v7zm4 0h-2V7h2v10zm4 0h-2v-4h2v4z\"/>\n",
              "    </g>\n",
              "</svg>\n",
              "  </button>\n",
              "\n",
              "<style>\n",
              "  .colab-df-quickchart {\n",
              "      --bg-color: #E8F0FE;\n",
              "      --fill-color: #1967D2;\n",
              "      --hover-bg-color: #E2EBFA;\n",
              "      --hover-fill-color: #174EA6;\n",
              "      --disabled-fill-color: #AAA;\n",
              "      --disabled-bg-color: #DDD;\n",
              "  }\n",
              "\n",
              "  [theme=dark] .colab-df-quickchart {\n",
              "      --bg-color: #3B4455;\n",
              "      --fill-color: #D2E3FC;\n",
              "      --hover-bg-color: #434B5C;\n",
              "      --hover-fill-color: #FFFFFF;\n",
              "      --disabled-bg-color: #3B4455;\n",
              "      --disabled-fill-color: #666;\n",
              "  }\n",
              "\n",
              "  .colab-df-quickchart {\n",
              "    background-color: var(--bg-color);\n",
              "    border: none;\n",
              "    border-radius: 50%;\n",
              "    cursor: pointer;\n",
              "    display: none;\n",
              "    fill: var(--fill-color);\n",
              "    height: 32px;\n",
              "    padding: 0;\n",
              "    width: 32px;\n",
              "  }\n",
              "\n",
              "  .colab-df-quickchart:hover {\n",
              "    background-color: var(--hover-bg-color);\n",
              "    box-shadow: 0 1px 2px rgba(60, 64, 67, 0.3), 0 1px 3px 1px rgba(60, 64, 67, 0.15);\n",
              "    fill: var(--button-hover-fill-color);\n",
              "  }\n",
              "\n",
              "  .colab-df-quickchart-complete:disabled,\n",
              "  .colab-df-quickchart-complete:disabled:hover {\n",
              "    background-color: var(--disabled-bg-color);\n",
              "    fill: var(--disabled-fill-color);\n",
              "    box-shadow: none;\n",
              "  }\n",
              "\n",
              "  .colab-df-spinner {\n",
              "    border: 2px solid var(--fill-color);\n",
              "    border-color: transparent;\n",
              "    border-bottom-color: var(--fill-color);\n",
              "    animation:\n",
              "      spin 1s steps(1) infinite;\n",
              "  }\n",
              "\n",
              "  @keyframes spin {\n",
              "    0% {\n",
              "      border-color: transparent;\n",
              "      border-bottom-color: var(--fill-color);\n",
              "      border-left-color: var(--fill-color);\n",
              "    }\n",
              "    20% {\n",
              "      border-color: transparent;\n",
              "      border-left-color: var(--fill-color);\n",
              "      border-top-color: var(--fill-color);\n",
              "    }\n",
              "    30% {\n",
              "      border-color: transparent;\n",
              "      border-left-color: var(--fill-color);\n",
              "      border-top-color: var(--fill-color);\n",
              "      border-right-color: var(--fill-color);\n",
              "    }\n",
              "    40% {\n",
              "      border-color: transparent;\n",
              "      border-right-color: var(--fill-color);\n",
              "      border-top-color: var(--fill-color);\n",
              "    }\n",
              "    60% {\n",
              "      border-color: transparent;\n",
              "      border-right-color: var(--fill-color);\n",
              "    }\n",
              "    80% {\n",
              "      border-color: transparent;\n",
              "      border-right-color: var(--fill-color);\n",
              "      border-bottom-color: var(--fill-color);\n",
              "    }\n",
              "    90% {\n",
              "      border-color: transparent;\n",
              "      border-bottom-color: var(--fill-color);\n",
              "    }\n",
              "  }\n",
              "</style>\n",
              "\n",
              "  <script>\n",
              "    async function quickchart(key) {\n",
              "      const quickchartButtonEl =\n",
              "        document.querySelector('#' + key + ' button');\n",
              "      quickchartButtonEl.disabled = true;  // To prevent multiple clicks.\n",
              "      quickchartButtonEl.classList.add('colab-df-spinner');\n",
              "      try {\n",
              "        const charts = await google.colab.kernel.invokeFunction(\n",
              "            'suggestCharts', [key], {});\n",
              "      } catch (error) {\n",
              "        console.error('Error during call to suggestCharts:', error);\n",
              "      }\n",
              "      quickchartButtonEl.classList.remove('colab-df-spinner');\n",
              "      quickchartButtonEl.classList.add('colab-df-quickchart-complete');\n",
              "    }\n",
              "    (() => {\n",
              "      let quickchartButtonEl =\n",
              "        document.querySelector('#df-b7074f72-d07e-4e59-9427-c5ca4f0eda8a button');\n",
              "      quickchartButtonEl.style.display =\n",
              "        google.colab.kernel.accessAllowed ? 'block' : 'none';\n",
              "    })();\n",
              "  </script>\n",
              "</div>\n",
              "    </div>\n",
              "  </div>\n"
            ]
          },
          "metadata": {},
          "execution_count": 46
        }
      ]
    },
    {
      "cell_type": "code",
      "source": [
        "#Perf. by Email Version\n",
        "CTR_by_version = Basedf[['email_id','email_version','opened','clicked']].groupby('email_version').count()\n",
        "CTR_by_version['open_rate'] = CTR_by_version['opened'] / CTR_by_version['email_id']\n",
        "CTR_by_version['CTR'] = CTR_by_version['clicked'] / CTR_by_version['opened']\n",
        "CTR_by_version\n",
        "\n",
        "# Result : Personalized email showed much higher openrate and CTR than generic email"
      ],
      "metadata": {
        "colab": {
          "base_uri": "https://localhost:8080/",
          "height": 143
        },
        "id": "9BnzLhkw11KT",
        "outputId": "a978521c-70d1-499b-afab-32f1e1a5c285"
      },
      "execution_count": 47,
      "outputs": [
        {
          "output_type": "execute_result",
          "data": {
            "text/plain": [
              "               email_id  opened  clicked  open_rate       CTR\n",
              "email_version                                                \n",
              "generic           50209    3984      760   0.079348  0.190763\n",
              "personalized      49791    6361     1359   0.127754  0.213646"
            ],
            "text/html": [
              "\n",
              "  <div id=\"df-fe7ab1a1-e4bf-4f57-a256-0956f59ef135\" class=\"colab-df-container\">\n",
              "    <div>\n",
              "<style scoped>\n",
              "    .dataframe tbody tr th:only-of-type {\n",
              "        vertical-align: middle;\n",
              "    }\n",
              "\n",
              "    .dataframe tbody tr th {\n",
              "        vertical-align: top;\n",
              "    }\n",
              "\n",
              "    .dataframe thead th {\n",
              "        text-align: right;\n",
              "    }\n",
              "</style>\n",
              "<table border=\"1\" class=\"dataframe\">\n",
              "  <thead>\n",
              "    <tr style=\"text-align: right;\">\n",
              "      <th></th>\n",
              "      <th>email_id</th>\n",
              "      <th>opened</th>\n",
              "      <th>clicked</th>\n",
              "      <th>open_rate</th>\n",
              "      <th>CTR</th>\n",
              "    </tr>\n",
              "    <tr>\n",
              "      <th>email_version</th>\n",
              "      <th></th>\n",
              "      <th></th>\n",
              "      <th></th>\n",
              "      <th></th>\n",
              "      <th></th>\n",
              "    </tr>\n",
              "  </thead>\n",
              "  <tbody>\n",
              "    <tr>\n",
              "      <th>generic</th>\n",
              "      <td>50209</td>\n",
              "      <td>3984</td>\n",
              "      <td>760</td>\n",
              "      <td>0.079348</td>\n",
              "      <td>0.190763</td>\n",
              "    </tr>\n",
              "    <tr>\n",
              "      <th>personalized</th>\n",
              "      <td>49791</td>\n",
              "      <td>6361</td>\n",
              "      <td>1359</td>\n",
              "      <td>0.127754</td>\n",
              "      <td>0.213646</td>\n",
              "    </tr>\n",
              "  </tbody>\n",
              "</table>\n",
              "</div>\n",
              "    <div class=\"colab-df-buttons\">\n",
              "\n",
              "  <div class=\"colab-df-container\">\n",
              "    <button class=\"colab-df-convert\" onclick=\"convertToInteractive('df-fe7ab1a1-e4bf-4f57-a256-0956f59ef135')\"\n",
              "            title=\"Convert this dataframe to an interactive table.\"\n",
              "            style=\"display:none;\">\n",
              "\n",
              "  <svg xmlns=\"http://www.w3.org/2000/svg\" height=\"24px\" viewBox=\"0 -960 960 960\">\n",
              "    <path d=\"M120-120v-720h720v720H120Zm60-500h600v-160H180v160Zm220 220h160v-160H400v160Zm0 220h160v-160H400v160ZM180-400h160v-160H180v160Zm440 0h160v-160H620v160ZM180-180h160v-160H180v160Zm440 0h160v-160H620v160Z\"/>\n",
              "  </svg>\n",
              "    </button>\n",
              "\n",
              "  <style>\n",
              "    .colab-df-container {\n",
              "      display:flex;\n",
              "      gap: 12px;\n",
              "    }\n",
              "\n",
              "    .colab-df-convert {\n",
              "      background-color: #E8F0FE;\n",
              "      border: none;\n",
              "      border-radius: 50%;\n",
              "      cursor: pointer;\n",
              "      display: none;\n",
              "      fill: #1967D2;\n",
              "      height: 32px;\n",
              "      padding: 0 0 0 0;\n",
              "      width: 32px;\n",
              "    }\n",
              "\n",
              "    .colab-df-convert:hover {\n",
              "      background-color: #E2EBFA;\n",
              "      box-shadow: 0px 1px 2px rgba(60, 64, 67, 0.3), 0px 1px 3px 1px rgba(60, 64, 67, 0.15);\n",
              "      fill: #174EA6;\n",
              "    }\n",
              "\n",
              "    .colab-df-buttons div {\n",
              "      margin-bottom: 4px;\n",
              "    }\n",
              "\n",
              "    [theme=dark] .colab-df-convert {\n",
              "      background-color: #3B4455;\n",
              "      fill: #D2E3FC;\n",
              "    }\n",
              "\n",
              "    [theme=dark] .colab-df-convert:hover {\n",
              "      background-color: #434B5C;\n",
              "      box-shadow: 0px 1px 3px 1px rgba(0, 0, 0, 0.15);\n",
              "      filter: drop-shadow(0px 1px 2px rgba(0, 0, 0, 0.3));\n",
              "      fill: #FFFFFF;\n",
              "    }\n",
              "  </style>\n",
              "\n",
              "    <script>\n",
              "      const buttonEl =\n",
              "        document.querySelector('#df-fe7ab1a1-e4bf-4f57-a256-0956f59ef135 button.colab-df-convert');\n",
              "      buttonEl.style.display =\n",
              "        google.colab.kernel.accessAllowed ? 'block' : 'none';\n",
              "\n",
              "      async function convertToInteractive(key) {\n",
              "        const element = document.querySelector('#df-fe7ab1a1-e4bf-4f57-a256-0956f59ef135');\n",
              "        const dataTable =\n",
              "          await google.colab.kernel.invokeFunction('convertToInteractive',\n",
              "                                                    [key], {});\n",
              "        if (!dataTable) return;\n",
              "\n",
              "        const docLinkHtml = 'Like what you see? Visit the ' +\n",
              "          '<a target=\"_blank\" href=https://colab.research.google.com/notebooks/data_table.ipynb>data table notebook</a>'\n",
              "          + ' to learn more about interactive tables.';\n",
              "        element.innerHTML = '';\n",
              "        dataTable['output_type'] = 'display_data';\n",
              "        await google.colab.output.renderOutput(dataTable, element);\n",
              "        const docLink = document.createElement('div');\n",
              "        docLink.innerHTML = docLinkHtml;\n",
              "        element.appendChild(docLink);\n",
              "      }\n",
              "    </script>\n",
              "  </div>\n",
              "\n",
              "\n",
              "<div id=\"df-67c54584-2b9f-4b99-8fb2-f612627c99b4\">\n",
              "  <button class=\"colab-df-quickchart\" onclick=\"quickchart('df-67c54584-2b9f-4b99-8fb2-f612627c99b4')\"\n",
              "            title=\"Suggest charts.\"\n",
              "            style=\"display:none;\">\n",
              "\n",
              "<svg xmlns=\"http://www.w3.org/2000/svg\" height=\"24px\"viewBox=\"0 0 24 24\"\n",
              "     width=\"24px\">\n",
              "    <g>\n",
              "        <path d=\"M19 3H5c-1.1 0-2 .9-2 2v14c0 1.1.9 2 2 2h14c1.1 0 2-.9 2-2V5c0-1.1-.9-2-2-2zM9 17H7v-7h2v7zm4 0h-2V7h2v10zm4 0h-2v-4h2v4z\"/>\n",
              "    </g>\n",
              "</svg>\n",
              "  </button>\n",
              "\n",
              "<style>\n",
              "  .colab-df-quickchart {\n",
              "      --bg-color: #E8F0FE;\n",
              "      --fill-color: #1967D2;\n",
              "      --hover-bg-color: #E2EBFA;\n",
              "      --hover-fill-color: #174EA6;\n",
              "      --disabled-fill-color: #AAA;\n",
              "      --disabled-bg-color: #DDD;\n",
              "  }\n",
              "\n",
              "  [theme=dark] .colab-df-quickchart {\n",
              "      --bg-color: #3B4455;\n",
              "      --fill-color: #D2E3FC;\n",
              "      --hover-bg-color: #434B5C;\n",
              "      --hover-fill-color: #FFFFFF;\n",
              "      --disabled-bg-color: #3B4455;\n",
              "      --disabled-fill-color: #666;\n",
              "  }\n",
              "\n",
              "  .colab-df-quickchart {\n",
              "    background-color: var(--bg-color);\n",
              "    border: none;\n",
              "    border-radius: 50%;\n",
              "    cursor: pointer;\n",
              "    display: none;\n",
              "    fill: var(--fill-color);\n",
              "    height: 32px;\n",
              "    padding: 0;\n",
              "    width: 32px;\n",
              "  }\n",
              "\n",
              "  .colab-df-quickchart:hover {\n",
              "    background-color: var(--hover-bg-color);\n",
              "    box-shadow: 0 1px 2px rgba(60, 64, 67, 0.3), 0 1px 3px 1px rgba(60, 64, 67, 0.15);\n",
              "    fill: var(--button-hover-fill-color);\n",
              "  }\n",
              "\n",
              "  .colab-df-quickchart-complete:disabled,\n",
              "  .colab-df-quickchart-complete:disabled:hover {\n",
              "    background-color: var(--disabled-bg-color);\n",
              "    fill: var(--disabled-fill-color);\n",
              "    box-shadow: none;\n",
              "  }\n",
              "\n",
              "  .colab-df-spinner {\n",
              "    border: 2px solid var(--fill-color);\n",
              "    border-color: transparent;\n",
              "    border-bottom-color: var(--fill-color);\n",
              "    animation:\n",
              "      spin 1s steps(1) infinite;\n",
              "  }\n",
              "\n",
              "  @keyframes spin {\n",
              "    0% {\n",
              "      border-color: transparent;\n",
              "      border-bottom-color: var(--fill-color);\n",
              "      border-left-color: var(--fill-color);\n",
              "    }\n",
              "    20% {\n",
              "      border-color: transparent;\n",
              "      border-left-color: var(--fill-color);\n",
              "      border-top-color: var(--fill-color);\n",
              "    }\n",
              "    30% {\n",
              "      border-color: transparent;\n",
              "      border-left-color: var(--fill-color);\n",
              "      border-top-color: var(--fill-color);\n",
              "      border-right-color: var(--fill-color);\n",
              "    }\n",
              "    40% {\n",
              "      border-color: transparent;\n",
              "      border-right-color: var(--fill-color);\n",
              "      border-top-color: var(--fill-color);\n",
              "    }\n",
              "    60% {\n",
              "      border-color: transparent;\n",
              "      border-right-color: var(--fill-color);\n",
              "    }\n",
              "    80% {\n",
              "      border-color: transparent;\n",
              "      border-right-color: var(--fill-color);\n",
              "      border-bottom-color: var(--fill-color);\n",
              "    }\n",
              "    90% {\n",
              "      border-color: transparent;\n",
              "      border-bottom-color: var(--fill-color);\n",
              "    }\n",
              "  }\n",
              "</style>\n",
              "\n",
              "  <script>\n",
              "    async function quickchart(key) {\n",
              "      const quickchartButtonEl =\n",
              "        document.querySelector('#' + key + ' button');\n",
              "      quickchartButtonEl.disabled = true;  // To prevent multiple clicks.\n",
              "      quickchartButtonEl.classList.add('colab-df-spinner');\n",
              "      try {\n",
              "        const charts = await google.colab.kernel.invokeFunction(\n",
              "            'suggestCharts', [key], {});\n",
              "      } catch (error) {\n",
              "        console.error('Error during call to suggestCharts:', error);\n",
              "      }\n",
              "      quickchartButtonEl.classList.remove('colab-df-spinner');\n",
              "      quickchartButtonEl.classList.add('colab-df-quickchart-complete');\n",
              "    }\n",
              "    (() => {\n",
              "      let quickchartButtonEl =\n",
              "        document.querySelector('#df-67c54584-2b9f-4b99-8fb2-f612627c99b4 button');\n",
              "      quickchartButtonEl.style.display =\n",
              "        google.colab.kernel.accessAllowed ? 'block' : 'none';\n",
              "    })();\n",
              "  </script>\n",
              "</div>\n",
              "    </div>\n",
              "  </div>\n"
            ]
          },
          "metadata": {},
          "execution_count": 47
        }
      ]
    },
    {
      "cell_type": "code",
      "source": [
        "#Perf. by Hours\n",
        "CTR_by_hour = Basedf[['email_id','hour','opened','clicked']].groupby('hour').count()\n",
        "CTR_by_hour['open_rate'] = CTR_by_hour['opened'] / CTR_by_hour['email_id']\n",
        "CTR_by_hour['CTR'] = CTR_by_hour['clicked'] / CTR_by_hour['opened']\n",
        "print(CTR_by_hour)\n",
        "\n",
        "#Draw a chart\n",
        "CTR_by_hour.reset_index().plot.line(x='hour', y=['open_rate','CTR'], figsize=(5,3))\n",
        "plt.axhline(average_o_rate, color='purple', linestyle='--', label='Average Open Rate')  # 기준선 추가\n",
        "plt.axhline(average_ctr, color='Red', linestyle='--', label='Average CTR')\n",
        "\n",
        "# Result : open rate was higher than average from 9 to 12 time slot. and CTR was as average at the same time slot."
      ],
      "metadata": {
        "colab": {
          "base_uri": "https://localhost:8080/",
          "height": 780
        },
        "id": "KXaO2mfu2qnD",
        "outputId": "4336a469-2efd-4597-9bcb-4f3ab653968c"
      },
      "execution_count": 48,
      "outputs": [
        {
          "output_type": "stream",
          "name": "stdout",
          "text": [
            "      email_id  opened  clicked  open_rate       CTR\n",
            "hour                                                \n",
            "1         2703     239       49   0.088420  0.205021\n",
            "2         3676     323       60   0.087867  0.185759\n",
            "3         4610     390       90   0.084599  0.230769\n",
            "4         5622     496       91   0.088225  0.183468\n",
            "5         6551     538      118   0.082125  0.219331\n",
            "6         7465     674      128   0.090288  0.189911\n",
            "7         8204     739      150   0.090078  0.202977\n",
            "8         8398     743      159   0.088473  0.213997\n",
            "9         8529    1072      220   0.125689  0.205224\n",
            "10        8180    1083      231   0.132396  0.213296\n",
            "11        7483     947      203   0.126554  0.214361\n",
            "12        6508     810      167   0.124462  0.206173\n",
            "13        5581     609      111   0.109120  0.182266\n",
            "14        4580     501       95   0.109389  0.189621\n",
            "15        3493     368       87   0.105354  0.236413\n",
            "16        2759     289       64   0.104748  0.221453\n",
            "17        1893     207       35   0.109350  0.169082\n",
            "18        1421     134       23   0.094300  0.171642\n",
            "19         905      68       15   0.075138  0.220588\n",
            "20         656      58        8   0.088415  0.137931\n",
            "21         365      21        3   0.057534  0.142857\n",
            "22         204      13        4   0.063725  0.307692\n",
            "23         145      12        6   0.082759  0.500000\n",
            "24          69      11        2   0.159420  0.181818\n"
          ]
        },
        {
          "output_type": "execute_result",
          "data": {
            "text/plain": [
              "<matplotlib.lines.Line2D at 0x7f33ea08a290>"
            ]
          },
          "metadata": {},
          "execution_count": 48
        },
        {
          "output_type": "display_data",
          "data": {
            "text/plain": [
              "<Figure size 500x300 with 1 Axes>"
            ],
            "image/png": "[encoded data removed]"
          },
          "metadata": {}
        }
      ]
    },
    {
      "cell_type": "code",
      "source": [
        "#Perf. by week of day\n",
        "CTR_by_weekday = Basedf[['email_id','weekday','opened','clicked']].groupby('weekday').count()\n",
        "CTR_by_weekday['open_rate'] = CTR_by_weekday['opened'] / CTR_by_weekday['email_id']\n",
        "CTR_by_weekday['CTR'] = CTR_by_weekday['clicked'] / CTR_by_weekday['opened']\n",
        "\n",
        "#change the index order by weekday\n",
        "weekday_order = [\"Monday\", \"Tuesday\", \"Wednesday\", \"Thursday\", \"Friday\", \"Saturday\",\"Sunday\"]\n",
        "CTR_by_weekday2 = CTR_by_weekday.reindex(weekday_order)\n",
        "print(CTR_by_weekday2)\n",
        "\n",
        "#Draw a chart\n",
        "weekday_chart = CTR_by_weekday2.reset_index()\n",
        "weekday_chart.plot.line(x='weekday', y=['open_rate','CTR'], figsize=(5,3))\n",
        "plt.axhline(average_o_rate, color='purple', linestyle='--', label='Average Open Rate')  # 기준선 추가\n",
        "plt.axhline(average_ctr, color='Red', linestyle='--', label='Average CTR')\n",
        "# Result :\n",
        "# Open rates are high from Monday to Thursday, CTRs are high from Tuesday to Thursday.\n",
        "# Both open rate and ctr droped significantly on Friday"
      ],
      "metadata": {
        "colab": {
          "base_uri": "https://localhost:8080/",
          "height": 485
        },
        "id": "i6kWBUWp4K5u",
        "outputId": "8e198575-e291-4fbd-f351-da007bceb1bc"
      },
      "execution_count": 49,
      "outputs": [
        {
          "output_type": "stream",
          "name": "stdout",
          "text": [
            "           email_id  opened  clicked  open_rate       CTR\n",
            "weekday                                                  \n",
            "Monday        14363    1667      329   0.116062  0.197361\n",
            "Tuesday       14143    1704      352   0.120484  0.206573\n",
            "Wednesday     14084    1694      389   0.120278  0.229634\n",
            "Thursday      14277    1691      349   0.118442  0.206387\n",
            "Friday        14177    1051      199   0.074134  0.189343\n",
            "Saturday      14569    1277      260   0.087652  0.203602\n",
            "Sunday        14387    1261      241   0.087649  0.191118\n"
          ]
        },
        {
          "output_type": "execute_result",
          "data": {
            "text/plain": [
              "<matplotlib.lines.Line2D at 0x7f33e9e4b4f0>"
            ]
          },
          "metadata": {},
          "execution_count": 49
        },
        {
          "output_type": "display_data",
          "data": {
            "text/plain": [
              "<Figure size 500x300 with 1 Axes>"
            ],
            "image/png": "[encoded data removed]"
          },
          "metadata": {}
        }
      ]
    },
    {
      "cell_type": "code",
      "source": [
        "#Perf. by User's country\n",
        "CTR_by_country = Basedf[['email_id','user_country','opened','clicked']].groupby('user_country').count()\n",
        "CTR_by_country['open_rate'] = CTR_by_country['opened'] / CTR_by_country['email_id']\n",
        "CTR_by_country['CTR'] = CTR_by_country['clicked'] / CTR_by_country['opened']\n",
        "print(CTR_by_country)\n",
        "\n",
        "#Draw a chart\n",
        "CTR_by_country2 = CTR_by_country.reset_index()\n",
        "CTR_by_country2.plot.line(x='user_country', y=['open_rate','CTR'], figsize=(5,3))\n",
        "plt.axhline(average_o_rate, color='purple', linestyle='--', label='Average Open Rate')  # 기준선 추가\n",
        "plt.axhline(average_ctr, color='Red', linestyle='--', label='Average CTR')\n",
        "# Result : Open Rate was significantly high in US and UK while CTR was almost similar in 4 countries"
      ],
      "metadata": {
        "colab": {
          "base_uri": "https://localhost:8080/",
          "height": 433
        },
        "id": "l--Mw8KTCCSC",
        "outputId": "9835a2b9-6867-4db1-ce8e-01086f94f89b"
      },
      "execution_count": 50,
      "outputs": [
        {
          "output_type": "stream",
          "name": "stdout",
          "text": [
            "              email_id  opened  clicked  open_rate       CTR\n",
            "user_country                                                \n",
            "ES                9967     390       83   0.039129  0.212821\n",
            "FR                9995     406       80   0.040620  0.197044\n",
            "UK               19939    2396      492   0.120167  0.205342\n",
            "US               60099    7153     1464   0.119020  0.204669\n"
          ]
        },
        {
          "output_type": "execute_result",
          "data": {
            "text/plain": [
              "<matplotlib.lines.Line2D at 0x7f33f2205840>"
            ]
          },
          "metadata": {},
          "execution_count": 50
        },
        {
          "output_type": "display_data",
          "data": {
            "text/plain": [
              "<Figure size 500x300 with 1 Axes>"
            ],
            "image/png": "[encoded data removed]"
          },
          "metadata": {}
        }
      ]
    },
    {
      "cell_type": "code",
      "source": [
        "#Perf. by past purchase\n",
        "CTR_by_pp = Basedf[['email_id','user_past_purchases','opened','clicked']].groupby('user_past_purchases').count()\n",
        "CTR_by_pp['open_rate'] = CTR_by_pp['opened'] / CTR_by_pp['email_id']\n",
        "CTR_by_pp['CTR'] = CTR_by_pp['clicked'] / CTR_by_pp['opened']\n",
        "print(CTR_by_pp)\n",
        "\n",
        "#Draw a chart\n",
        "CTR_by_pp2 = CTR_by_pp.reset_index()\n",
        "CTR_by_pp2.plot.line(x='user_past_purchases', y=['open_rate','CTR'], figsize=(5,3))\n",
        "plt.axhline(average_o_rate, color='purple', linestyle='--', label='Average Open Rate')  # 기준선 추가\n",
        "plt.axhline(average_ctr, color='Red', linestyle='--', label='Average CTR')\n",
        "# Result : More purchases showed higher open rate and higher CTR.\n",
        "# it seems to be better targeting only the users who purchases more than once or more than 3 times.\n",
        "# morethan once : the openrate is significantly increase then no purchased user from 3% to 9% (9% is more close to the average open rate 10%)\n",
        "# more than 4 times : the CTR increases rapidly from 15% to 19% (19% is close to the average CTR 20%)"
      ],
      "metadata": {
        "colab": {
          "base_uri": "https://localhost:8080/",
          "height": 762
        },
        "id": "0ZN3vp_9DMnp",
        "outputId": "ee972b39-f40d-4bf6-eb24-6f6d4e4f1f01"
      },
      "execution_count": 51,
      "outputs": [
        {
          "output_type": "stream",
          "name": "stdout",
          "text": [
            "                     email_id  opened  clicked  open_rate       CTR\n",
            "user_past_purchases                                                \n",
            "0                       13877     532        7   0.038337  0.013158\n",
            "1                       13751    1276      154   0.092793  0.120690\n",
            "2                       13036    1320      200   0.101258  0.151515\n",
            "3                       12077    1305      200   0.108057  0.153257\n",
            "4                       10743    1195      230   0.111235  0.192469\n",
            "5                        9042    1052      201   0.116346  0.191065\n",
            "6                        7518     928      241   0.123437  0.259698\n",
            "7                        6051     744      186   0.122955  0.250000\n",
            "8                        4393     613      174   0.139540  0.283850\n",
            "9                        3296     444      150   0.134709  0.337838\n",
            "10                       2363     329      110   0.139230  0.334347\n",
            "11                       1553     234       87   0.150676  0.371795\n",
            "12                        944     134       62   0.141949  0.462687\n",
            "13                        578      81       38   0.140138  0.469136\n",
            "14                        362      71       33   0.196133  0.464789\n",
            "15                        188      37       22   0.196809  0.594595\n",
            "16                        102      22       12   0.215686  0.545455\n",
            "17                         60      11        5   0.183333  0.454545\n",
            "18                         35       7        1   0.200000  0.142857\n",
            "19                         15       3        3   0.200000  1.000000\n",
            "20                         11       4        0   0.363636  0.000000\n",
            "21                          4       2        2   0.500000  1.000000\n",
            "22                          1       1        1   1.000000  1.000000\n"
          ]
        },
        {
          "output_type": "execute_result",
          "data": {
            "text/plain": [
              "<matplotlib.lines.Line2D at 0x7f33f111e800>"
            ]
          },
          "metadata": {},
          "execution_count": 51
        },
        {
          "output_type": "display_data",
          "data": {
            "text/plain": [
              "<Figure size 500x300 with 1 Axes>"
            ],
            "image/png": "[encoded data removed]"
          },
          "metadata": {}
        }
      ]
    },
    {
      "cell_type": "markdown",
      "source": [
        "##  4.Analysis result review & suggestion for Optimization Strategy"
      ],
      "metadata": {
        "id": "Vl8CWNZBJnWR"
      }
    },
    {
      "cell_type": "markdown",
      "source": [
        "## 4-1. Analysis Review :\n",
        "* Total CTR is 10%, total click through rate(CTR) is 20%.\n",
        "* Email Length : both email has almost same CTR, but **Short email showed higher open rate**.\n",
        "* Email Version : **Personalized email showed much higher performance** in both openrate and CTR than generic email.\n",
        "* Time slot : open rate was higher than average from **9 to 12 time slot**. and CTR was as average at the same time slot.\n",
        "* Week of Day : **Open rates are high from Monday to Thursday**, CTRs are high from Tuesday to Thursday. Both open rate and ctr droped significantly on Friday and stayed **low during weekend**.\n",
        "* Country : Open Rate was significantly **high in US and UK** while CTR was almost similar in 4 countries.\n",
        "* Past Purchases : **More purchases showed higher open rate and higher CTR**.\n",
        "    * it seems to be better targeting only the users who purchases more than once or more than 4 times.\n",
        "    * more than once : the openrate is significantly increase than no purchased user from 3% to 9%.\n",
        "    * more than 4 times : the CTR increases rapidly from 15% to 19%."
      ],
      "metadata": {
        "id": "2NM8_dYPKHmw"
      }
    },
    {
      "cell_type": "markdown",
      "source": [
        "* Past Purchases : **More purchases showed higher open rate and higher CTR**.\n",
        "    * it seems to be better targeting only the users who purchases more than once or more than 4 times.\n",
        "    * more than once : the openrate is significantly increase than no purchased user from 3% to 9%.\n",
        "    * more than 4 times : the CTR increases rapidly from 15% to 19%."
      ],
      "metadata": {
        "id": "JfF7ThnPLFfm"
      }
    },
    {
      "cell_type": "code",
      "source": [
        "#Draw a chart\n",
        "CTR_by_pp2 = CTR_by_pp.reset_index()\n",
        "chart1 = CTR_by_pp2.plot.line(x='user_past_purchases', y=['open_rate','CTR'], figsize=(5,3))\n",
        "plt.axhline(average_o_rate, color='purple', linestyle='--', label='Average Open Rate')  # 기준선 추가\n",
        "plt.axhline(average_ctr, color='Red', linestyle='--', label='Average CTR')"
      ],
      "metadata": {
        "colab": {
          "base_uri": "https://localhost:8080/",
          "height": 328
        },
        "id": "50b2t3VCK06a",
        "outputId": "8e2d8bf2-eba4-4ac4-d6dc-55375df4e7c8"
      },
      "execution_count": 52,
      "outputs": [
        {
          "output_type": "execute_result",
          "data": {
            "text/plain": [
              "<matplotlib.lines.Line2D at 0x7f33f1416080>"
            ]
          },
          "metadata": {},
          "execution_count": 52
        },
        {
          "output_type": "display_data",
          "data": {
            "text/plain": [
              "<Figure size 500x300 with 1 Axes>"
            ],
            "image/png": "[encoded data removed]"
          },
          "metadata": {}
        }
      ]
    },
    {
      "cell_type": "code",
      "source": [
        "# Draw a Heatmap of Weekday and hourly"
      ],
      "metadata": {
        "id": "YQ7vLqBQL1Vp"
      },
      "execution_count": 53,
      "outputs": []
    },
    {
      "cell_type": "markdown",
      "source": [
        "## 4-2. Recommendation for optimization\n",
        "\n",
        "\n",
        "1.  Email Length\n",
        "    * Consider focusing on shorter email content to maintain or increase open Rate, More open rate will deliver more clicks.\n",
        "2.  Email Version\n",
        "    * Continue prioritizing personalized emails as they have shown significantly higher performance in both open rates and CTR.\n",
        "    * Consider more personalization options, such as product recommendations or personalized offers.\n",
        "3. Time Slot\n",
        "    * Schedule emails to be sent during the time slots with higher open rates (9 to 12) or late night for higher CTR.\n",
        "4. Day of the Week Targeting\n",
        "    * Focus email campaigns on Monday to Thursday for higher open rates.\n",
        "    * Target Tuesday to Thursday for maximizing CTR.\n",
        "    * Consider a weekend promotions for increasing CTR.\n",
        "5. Country Targeting\n",
        "    * increase prioritizing to US, UK market\n",
        "    * Consider running country specific campaigns or\n",
        "6. Targeted Campaigns for High Purchasers\n",
        "    * Devide user groups by number of purchases. (1) Users who have made morethan one purchase, (2) User who have made more than four purchase, (3) users who have made more than ten times\n",
        "    * Provide loyalty rewards, exclusive offers or personalized content by the purchase groups\n",
        "7. Keep testing and Optimization by monitoring Open rate and CTR.\n",
        "    * Make a dashboard to monitor the key matrics.\n",
        "    * Continue A/B testing email content.\n"
      ],
      "metadata": {
        "id": "s4usE3R7NLS2"
      }
    },
    {
      "cell_type": "code",
      "source": [
        "# Week & Day OpenRate & CTR heatmap\n",
        "CTR_by_wdh = Basedf[['email_id','weekday','hour','opened','clicked']].groupby(['weekday','hour']).count()\n",
        "CTR_by_wdh['open_rate'] = CTR_by_wdh['opened'] / CTR_by_wdh['email_id']\n",
        "CTR_by_wdh['CTR'] = CTR_by_wdh['clicked'] / CTR_by_wdh['opened']\n",
        "\n",
        "\n",
        "#Draw a chart\n",
        "CTR_by_wdh1 = CTR_by_wdh.reset_index()\n",
        "CTR_by_wdh2=CTR_by_wdh1.pivot('weekday','hour','open_rate')\n",
        "f, ax = plt.subplots(figsize=(12, 6))\n",
        "sns.heatmap(CTR_by_wdh2, cmap='magma', annot=True, vmax=0.2, )"
      ],
      "metadata": {
        "id": "i1Zp7JGiLQ6N",
        "colab": {
          "base_uri": "https://localhost:8080/",
          "height": 589
        },
        "outputId": "ae6de1c7-9457-4ad7-f83c-2184ec104e68"
      },
      "execution_count": 73,
      "outputs": [
        {
          "output_type": "stream",
          "name": "stderr",
          "text": [
            "<ipython-input-73-5dbd502c5c89>:9: FutureWarning: In a future version of pandas all arguments of DataFrame.pivot will be keyword-only.\n",
            "  CTR_by_wdh2=CTR_by_wdh1.pivot('weekday','hour','open_rate')\n"
          ]
        },
        {
          "output_type": "execute_result",
          "data": {
            "text/plain": [
              "<Axes: xlabel='hour', ylabel='weekday'>"
            ]
          },
          "metadata": {},
          "execution_count": 73
        },
        {
          "output_type": "display_data",
          "data": {
            "text/plain": [
              "<Figure size 1200x600 with 2 Axes>"
            ],
            "image/png": "[encoded data removed]"
          },
          "metadata": {}
        }
      ]
    }
  ]
}